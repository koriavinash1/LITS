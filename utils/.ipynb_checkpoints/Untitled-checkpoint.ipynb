{
 "cells": [
  {
   "cell_type": "code",
   "execution_count": 1,
   "metadata": {
    "collapsed": true
   },
   "outputs": [],
   "source": [
    "import numpy as np\n",
    "import time"
   ]
  },
  {
   "cell_type": "code",
   "execution_count": 2,
   "metadata": {
    "collapsed": false
   },
   "outputs": [
    {
     "name": "stdout",
     "output_type": "stream",
     "text": [
      "Working on old method\n",
      "time for ol method : 0.227209091187s\n",
      "Working on numpy method\n",
      "time taken for numpy vstack : 31.1819679737s\n"
     ]
    }
   ],
   "source": [
    "a =[]\n",
    "print(\"Working on old method\")\n",
    "str_time = time.time()\n",
    "for i in range(50):\n",
    "    img = np.zeros((4,512,512,3))\n",
    "    for i in range(4):\n",
    "        img[i,:,:,:] = np.ones((1,512,512,3))\n",
    "    a.append(img)\n",
    "print(\"time for ol method : \" + str(time.time()-str_time) + 's')\n",
    "\n",
    "print(\"Working on numpy method\")\n",
    "b = np.ones((1,512,512,3))\n",
    "str1_time = time.time()\n",
    "for i in range(200):\n",
    "    b = np.vstack([b,np.ones((1,512,512,3))])\n",
    "print(\"time taken for numpy vstack : \" + str(time.time()-str1_time) + 's')\n"
   ]
  },
  {
   "cell_type": "code",
   "execution_count": null,
   "metadata": {
    "collapsed": true
   },
   "outputs": [],
   "source": []
  }
 ],
 "metadata": {
  "kernelspec": {
   "display_name": "Python 2",
   "language": "python",
   "name": "python2"
  },
  "language_info": {
   "codemirror_mode": {
    "name": "ipython",
    "version": 2
   },
   "file_extension": ".py",
   "mimetype": "text/x-python",
   "name": "python",
   "nbconvert_exporter": "python",
   "pygments_lexer": "ipython2",
   "version": "2.7.6"
  }
 },
 "nbformat": 4,
 "nbformat_minor": 0
}
