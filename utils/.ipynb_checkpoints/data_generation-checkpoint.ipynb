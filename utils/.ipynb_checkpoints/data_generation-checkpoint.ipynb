{
 "cells": [
  {
   "cell_type": "markdown",
   "metadata": {},
   "source": [
    "## To generate the preProcessed hdf5 files to directly feed to the network"
   ]
  },
  {
   "cell_type": "code",
   "execution_count": 1,
   "metadata": {
    "collapsed": true
   },
   "outputs": [],
   "source": [
    "import numpy as np\n",
    "import os, sys, shutil\n",
    "import scipy.ndimage as snd\n",
    "import h5py\n",
    "import SimpleITK as sitk"
   ]
  },
  {
   "cell_type": "markdown",
   "metadata": {},
   "source": [
    "##### All the pre-processing functions"
   ]
  },
  {
   "cell_type": "code",
   "execution_count": 3,
   "metadata": {
    "collapsed": true
   },
   "outputs": [],
   "source": [
    "def getWeightMap(self, label):\n",
    "    label = np.argmax(label, axis=3)[0]\n",
    "    edge = np.float32(morph.binary_dilation(canny(np.float32(label)), selem))\n",
    "    weight_map = np.zeros(label.shape)\n",
    "    weight_map[np.where(label>0)] = self.class_weights[1]-1\n",
    "    # weight_map[np.where(label>0)] = self.getWeightMapValue(label)\n",
    "    weight_map = weight_map + 1\n",
    "    weight_map[np.where(edge==1.0)] = 25\n",
    "\n",
    "    return weight_map[None,:,:]\n",
    "\n",
    "def downSampleImage(self,image):\n",
    "    return np.float64(snd.interpolation.zoom(image, 0.5))\n",
    "\n",
    "def oneHot(self,targets,n_class = 6):\n",
    "    axis = targets.ndim\n",
    "    ret_val = (np.arange(n_class) == np.expand_dims(targets,axis = axis)).astype(int)\n",
    "    return ret_val\n",
    "\n",
    "def loadDicomVolume(self,file_path):\n",
    "    reader = sitk.ImageSeriesReader()\n",
    "    reader.SetOutputPixelType(sitk.sitkFloat32)\n",
    "    dicom_names = reader.GetGDCMSeriesFileNames(file_path)\n",
    "    reader.SetFileNames(dicom_names)\n",
    "    self.itk_image = reader.Execute()\n",
    "    image_vol = sitk.GetArrayFromImage(self.itk_image)\n",
    "    image_vol = np.transpose(image_vol,(1,2,0))\n",
    "    return np.float32(image_vol)\n",
    "\n",
    "def HU_window(self, in_arr):\n",
    "    return np.clip(in_arr, -100, 400)\n",
    "\n",
    "def histogram_equalization(self, arr):\n",
    "    nbr_bins = 256\n",
    "    imhist, bins = np.histogram(arr.flatten(), nbr_bins, normed = True)\n",
    "    cdf = imhist.cumsum()\n",
    "    cdf = 255 * cdf / cdf[-1]\n",
    "    original_shape = arr.shape\n",
    "    arr = np.interp(arr.flatten(), bins[:-1], cdf)\n",
    "    out_arr = arr.reshape(original_shape)\n",
    "    return out_arr\n",
    "\n",
    "def normalize(self, x):\n",
    "    x = np.float32(x)\n",
    "    min_val = np.min(x)\n",
    "    max_val = np.max(x)\n",
    "    ret_val = (x - min_val) / (max_val - min_val)\n",
    "    return ret_val\n",
    "\n",
    "def makeInput(image):\n",
    "    return image[None,:,:,None]"
   ]
  },
  {
   "cell_type": "markdown",
   "metadata": {},
   "source": [
    "##### Generate all the filepaths of the volumes and corresponding segmenataitons"
   ]
  },
  {
   "cell_type": "code",
   "execution_count": null,
   "metadata": {
    "collapsed": true
   },
   "outputs": [],
   "source": [
    "root = ''\n",
    "dest = ''\n",
    "mode = 'train'\n",
    "all_fls = [os.path.join(root,mode,f) for f in os.listdir(os.path.join(root,mode))]\n",
    "\n",
    "vols = []\n",
    "segs = []\n",
    "\n",
    "for each in all_fls:\n",
    "    if 'volume-' in each:\n",
    "        vols.append(each)\n",
    "    elif 'segmentation-' in each:\n",
    "        segs.append(each)\n",
    "\n",
    "vols.sort()\n",
    "segs.sort()"
   ]
  },
  {
   "cell_type": "code",
   "execution_count": null,
   "metadata": {
    "collapsed": true
   },
   "outputs": [],
   "source": [
    "for vol_path in vols:\n",
    "    vol_img = sitk.ReadImage(vol_path)\n",
    "    vol = sitk.GetArrayFromImage(vol_img)\n",
    "    for i in range()"
   ]
  }
 ],
 "metadata": {
  "kernelspec": {
   "display_name": "Python 2",
   "language": "python",
   "name": "python2"
  },
  "language_info": {
   "codemirror_mode": {
    "name": "ipython",
    "version": 2
   },
   "file_extension": ".py",
   "mimetype": "text/x-python",
   "name": "python",
   "nbconvert_exporter": "python",
   "pygments_lexer": "ipython2",
   "version": "2.7.6"
  }
 },
 "nbformat": 4,
 "nbformat_minor": 0
}
