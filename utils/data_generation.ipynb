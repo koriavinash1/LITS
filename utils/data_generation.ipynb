{
 "cells": [
  {
   "cell_type": "markdown",
   "metadata": {},
   "source": [
    "## To generate the preProcessed hdf5 files to directly feed to the network"
   ]
  },
  {
   "cell_type": "code",
   "execution_count": 1,
   "metadata": {
    "collapsed": false
   },
   "outputs": [],
   "source": [
    "import numpy as np\n",
    "import os, sys, shutil\n",
    "import scipy.ndimage as snd\n",
    "import h5py\n",
    "import SimpleITK as sitk\n",
    "import skimage.morphology as morph\n",
    "from skimage.feature import canny\n",
    "from tqdm import tqdm\n",
    "import matplotlib.pyplot as plt\n",
    "%matplotlib inline"
   ]
  },
  {
   "cell_type": "markdown",
   "metadata": {},
   "source": [
    "##### All the pre-processing functions"
   ]
  },
  {
   "cell_type": "code",
   "execution_count": 2,
   "metadata": {
    "collapsed": false
   },
   "outputs": [],
   "source": [
    "selem = morph.disk(3)\n",
    "def getWeightMap(label):\n",
    "    label = np.argmax(label, axis=3)[0]\n",
    "    edge = np.float32(morph.binary_dilation(canny(np.float32(label)), selem))\n",
    "    weight_map = np.zeros(label.shape)\n",
    "    weight_map[np.where(label>0)] = 4\n",
    "    weight_map = weight_map + 1\n",
    "    weight_map[np.where(edge==1.0)] = 25\n",
    "\n",
    "    return np.uint8(weight_map[None,:,:])\n",
    "\n",
    "def downSampleImage(image):\n",
    "    return np.float64(snd.interpolation.zoom(image, 0.5))\n",
    "\n",
    "def oneHot(targets,n_class = 6):\n",
    "    axis = targets.ndim\n",
    "    ret_val = (np.arange(n_class) == np.expand_dims(targets,axis = axis)).astype(int)\n",
    "    return ret_val\n",
    "\n",
    "def loadDicomVolume(file_path, itk_image):\n",
    "    reader = sitk.ImageSeriesReader()\n",
    "    reader.SetOutputPixelType(sitk.sitkFloat32)\n",
    "    dicom_names = reader.GetGDCMSeriesFileNames(file_path)\n",
    "    reader.SetFileNames(dicom_names)\n",
    "    itk_image = reader.Execute()\n",
    "    image_vol = sitk.GetArrayFromImage(self.itk_image)\n",
    "    image_vol = np.transpose(image_vol,(1,2,0))\n",
    "    return np.float32(image_vol)\n",
    "\n",
    "def HU_window(in_arr):\n",
    "    arr1 = in_arr.copy()\n",
    "    arr2 = in_arr.copy()\n",
    "    arr3 = in_arr.copy()\n",
    "    return np.clip(arr1, 0, 100), np.clip(arr2, -100, 200), np.clip(arr3, -100, 400)\n",
    "\n",
    "def histogram_equalization(arr):\n",
    "    nbr_bins = 256\n",
    "    imhist, bins = np.histogram(arr.flatten(), nbr_bins, normed = True)\n",
    "    cdf = imhist.cumsum()\n",
    "    cdf = 255 * cdf / cdf[-1]\n",
    "    original_shape = arr.shape\n",
    "    arr = np.interp(arr.flatten(), bins[:-1], cdf)\n",
    "    out_arr = arr.reshape(original_shape)\n",
    "    return out_arr\n",
    "\n",
    "def normalize(x):\n",
    "    x = np.float32(x)\n",
    "    min_val = np.min(x)\n",
    "    max_val = np.max(x)\n",
    "    ret_val = (x - min_val) / (max_val - min_val)\n",
    "    return ret_val\n",
    "\n",
    "def downSample(slc1,slc2,slc3):\n",
    "    return snd.interpolation.zoom(slc1,0.5), snd.interpolation.zoom(slc2,0.5), snd.interpolation.zoom(slc3,0.5)\n",
    "\n",
    "def makeInput(slc1,slc2,slc3):\n",
    "    image = np.zeros((1,256,256,3))\n",
    "    image[0,:,:,0] = slc1\n",
    "    image[0,:,:,1] = slc2\n",
    "    image[0,:,:,2] = slc3\n",
    "    return image\n",
    "\n",
    "def makeLablel(lbl):\n",
    "    lbl = oneHot(lbl,3)\n",
    "    return np.uint8(lbl[None,:,:])"
   ]
  },
  {
   "cell_type": "markdown",
   "metadata": {},
   "source": [
    "##### Generate all the filepaths of the volumes and corresponding segmenataitons"
   ]
  },
  {
   "cell_type": "code",
   "execution_count": 22,
   "metadata": {
    "collapsed": false
   },
   "outputs": [],
   "source": [
    "root = '/windows/Lits2017/DataSet/'\n",
    "dest = '/windows/Lits2017/DataSet/hdf5/'\n",
    "mode = 'val'\n",
    "\n",
    "if not os.path.exists(os.path.join(dest,mode)):\n",
    "    os.makedirs(os.path.join(dest,mode))\n",
    "\n",
    "all_fls = os.listdir(os.path.join(root,mode))\n",
    "\n",
    "vols = []\n",
    "segs = []\n",
    "\n",
    "for each in all_fls:\n",
    "    if 'volume-' in each:\n",
    "        vols.append(each)\n",
    "    elif 'segmentation-' in each:\n",
    "        segs.append(each)\n",
    "\n",
    "vols.sort()\n",
    "segs.sort()"
   ]
  },
  {
   "cell_type": "code",
   "execution_count": 23,
   "metadata": {
    "collapsed": false
   },
   "outputs": [
    {
     "data": {
      "text/plain": [
       "26"
      ]
     },
     "execution_count": 23,
     "metadata": {},
     "output_type": "execute_result"
    }
   ],
   "source": [
    "len(vols)"
   ]
  },
  {
   "cell_type": "code",
   "execution_count": 24,
   "metadata": {
    "collapsed": false
   },
   "outputs": [
    {
     "name": "stderr",
     "output_type": "stream",
     "text": [
      "\r",
      "  0%|          | 0/26 [00:00<?, ?it/s]"
     ]
    },
    {
     "name": "stdout",
     "output_type": "stream",
     "text": [
      "working on /windows/Lits2017/DataSet/val/volume-101.nii\n",
      "Bad spacing in volume-101.nii | spacing : (0.705078125, 0.705078125, 0.699999988079071)"
     ]
    },
    {
     "name": "stderr",
     "output_type": "stream",
     "text": [
      "\r",
      "  4%|▍         | 1/26 [00:04<01:46,  4.25s/it]"
     ]
    },
    {
     "name": "stdout",
     "output_type": "stream",
     "text": [
      "\n",
      "working on /windows/Lits2017/DataSet/val/volume-106.nii\n",
      "Bad spacing in volume-106.nii | spacing : (0.7289999723434448, 0.7289999723434448, 0.800000011920929)"
     ]
    },
    {
     "name": "stderr",
     "output_type": "stream",
     "text": [
      "\r",
      "  8%|▊         | 2/26 [00:08<01:40,  4.19s/it]"
     ]
    },
    {
     "name": "stdout",
     "output_type": "stream",
     "text": [
      "\n",
      "working on /windows/Lits2017/DataSet/val/volume-109.nii\n",
      "Bad spacing in volume-109.nii | spacing : (0.7630000114440918, 0.7630000114440918, 0.800000011920929)"
     ]
    },
    {
     "name": "stderr",
     "output_type": "stream",
     "text": [
      "\r",
      " 12%|█▏        | 3/26 [00:12<01:34,  4.12s/it]"
     ]
    },
    {
     "name": "stdout",
     "output_type": "stream",
     "text": [
      "\n",
      "working on /windows/Lits2017/DataSet/val/volume-111.nii\n",
      "Bad spacing in volume-111.nii | spacing : (0.7820000052452087, 0.7820000052452087, 0.800000011920929)"
     ]
    },
    {
     "name": "stderr",
     "output_type": "stream",
     "text": [
      "\r",
      " 15%|█▌        | 4/26 [00:15<01:28,  4.01s/it]"
     ]
    },
    {
     "name": "stdout",
     "output_type": "stream",
     "text": [
      "\n",
      "working on /windows/Lits2017/DataSet/val/volume-126.nii\n",
      "Bad spacing in volume-126.nii | spacing : (0.6640625, 0.6640625, 1.5)"
     ]
    },
    {
     "name": "stderr",
     "output_type": "stream",
     "text": [
      "\r",
      " 19%|█▉        | 5/26 [00:18<01:14,  3.53s/it]"
     ]
    },
    {
     "name": "stdout",
     "output_type": "stream",
     "text": [
      "\n",
      "working on /windows/Lits2017/DataSet/val/volume-18.nii\n",
      "Bad spacing in volume-18.nii | spacing : (0.921875, 0.921875, 0.800000011920929)"
     ]
    },
    {
     "name": "stderr",
     "output_type": "stream",
     "text": [
      "\r",
      " 23%|██▎       | 6/26 [00:22<01:14,  3.75s/it]"
     ]
    },
    {
     "name": "stdout",
     "output_type": "stream",
     "text": [
      "\n",
      "working on /windows/Lits2017/DataSet/val/volume-22.nii\n",
      "Bad spacing in volume-22.nii | spacing : (0.9765620231628418, 0.9765620231628418, 3.2699999809265137)"
     ]
    },
    {
     "name": "stderr",
     "output_type": "stream",
     "text": [
      " 31%|███       | 8/26 [00:46<02:39,  8.86s/it]"
     ]
    },
    {
     "name": "stdout",
     "output_type": "stream",
     "text": [
      "\n",
      "working on /windows/Lits2017/DataSet/val/volume-32.nii\n",
      "working on /windows/Lits2017/DataSet/val/volume-33.nii"
     ]
    },
    {
     "name": "stderr",
     "output_type": "stream",
     "text": [
      "\r",
      " 35%|███▍      | 9/26 [01:07<03:31, 12.42s/it]"
     ]
    },
    {
     "name": "stdout",
     "output_type": "stream",
     "text": [
      "\n",
      "working on /windows/Lits2017/DataSet/val/volume-34.nii"
     ]
    },
    {
     "name": "stderr",
     "output_type": "stream",
     "text": [
      "\r",
      " 38%|███▊      | 10/26 [01:39<04:53, 18.36s/it]"
     ]
    },
    {
     "name": "stdout",
     "output_type": "stream",
     "text": [
      "\n",
      "working on /windows/Lits2017/DataSet/val/volume-45.nii"
     ]
    },
    {
     "name": "stderr",
     "output_type": "stream",
     "text": [
      "\r",
      " 42%|████▏     | 11/26 [01:50<04:03, 16.26s/it]"
     ]
    },
    {
     "name": "stdout",
     "output_type": "stream",
     "text": [
      "\n",
      "working on /windows/Lits2017/DataSet/val/volume-54.nii\n",
      "Bad spacing in volume-54.nii | spacing : (0.828125, 0.828125, 5.0)"
     ]
    },
    {
     "name": "stderr",
     "output_type": "stream",
     "text": [
      "\r",
      " 46%|████▌     | 12/26 [01:51<02:43, 11.67s/it]"
     ]
    },
    {
     "name": "stdout",
     "output_type": "stream",
     "text": [
      "\n",
      "working on /windows/Lits2017/DataSet/val/volume-58.nii\n",
      "Bad spacing in volume-58.nii | spacing : (0.6835939884185791, 0.6835939884185791, 2.0)"
     ]
    },
    {
     "name": "stderr",
     "output_type": "stream",
     "text": [
      "\r",
      " 50%|█████     | 13/26 [01:53<01:50,  8.53s/it]"
     ]
    },
    {
     "name": "stdout",
     "output_type": "stream",
     "text": [
      "\n",
      "working on /windows/Lits2017/DataSet/val/volume-59.nii\n",
      "Bad spacing in volume-59.nii | spacing : (0.6835939884185791, 0.6835939884185791, 2.0)"
     ]
    },
    {
     "name": "stderr",
     "output_type": "stream",
     "text": [
      "\r",
      " 54%|█████▍    | 14/26 [01:57<01:28,  7.33s/it]"
     ]
    },
    {
     "name": "stdout",
     "output_type": "stream",
     "text": [
      "\n",
      "working on /windows/Lits2017/DataSet/val/volume-6.nii\n",
      "Bad spacing in volume-6.nii | spacing : (0.873046875, 0.873046875, 1.0)"
     ]
    },
    {
     "name": "stderr",
     "output_type": "stream",
     "text": [
      "\r",
      " 58%|█████▊    | 15/26 [02:00<01:06,  6.07s/it]"
     ]
    },
    {
     "name": "stdout",
     "output_type": "stream",
     "text": [
      "\n",
      "working on /windows/Lits2017/DataSet/val/volume-60.nii\n",
      "Bad spacing in volume-60.nii | spacing : (0.7988280057907104, 0.7988280057907104, 2.0)"
     ]
    },
    {
     "name": "stderr",
     "output_type": "stream",
     "text": [
      "\r",
      " 62%|██████▏   | 16/26 [02:04<00:54,  5.48s/it]"
     ]
    },
    {
     "name": "stdout",
     "output_type": "stream",
     "text": [
      "\n",
      "working on /windows/Lits2017/DataSet/val/volume-65.nii\n",
      "Bad spacing in volume-65.nii | spacing : (0.625, 0.625, 0.7989500164985657)"
     ]
    },
    {
     "name": "stderr",
     "output_type": "stream",
     "text": [
      "\r",
      " 65%|██████▌   | 17/26 [02:08<00:43,  4.89s/it]"
     ]
    },
    {
     "name": "stdout",
     "output_type": "stream",
     "text": [
      "\n",
      "working on /windows/Lits2017/DataSet/val/volume-69.nii\n",
      "Bad spacing in volume-69.nii | spacing : (0.75390625, 0.75390625, 2.0)"
     ]
    },
    {
     "name": "stderr",
     "output_type": "stream",
     "text": [
      "\r",
      " 69%|██████▉   | 18/26 [02:11<00:33,  4.25s/it]"
     ]
    },
    {
     "name": "stdout",
     "output_type": "stream",
     "text": [
      "\n",
      "working on /windows/Lits2017/DataSet/val/volume-72.nii\n",
      "Bad spacing in volume-72.nii | spacing : (0.6777340173721313, 0.6777340173721313, 2.5)"
     ]
    },
    {
     "name": "stderr",
     "output_type": "stream",
     "text": [
      "\r",
      " 73%|███████▎  | 19/26 [02:12<00:24,  3.52s/it]"
     ]
    },
    {
     "name": "stdout",
     "output_type": "stream",
     "text": [
      "\n",
      "working on /windows/Lits2017/DataSet/val/volume-78.nii\n",
      "Bad spacing in volume-78.nii | spacing : (0.7851560115814209, 0.7851560115814209, 2.5)"
     ]
    },
    {
     "name": "stderr",
     "output_type": "stream",
     "text": [
      "\r",
      " 77%|███████▋  | 20/26 [02:15<00:18,  3.11s/it]"
     ]
    },
    {
     "name": "stdout",
     "output_type": "stream",
     "text": [
      "\n",
      "working on /windows/Lits2017/DataSet/val/volume-8.nii\n",
      "Bad spacing in volume-8.nii | spacing : (0.84765625, 0.84765625, 1.0)"
     ]
    },
    {
     "name": "stderr",
     "output_type": "stream",
     "text": [
      "\r",
      " 81%|████████  | 21/26 [02:19<00:17,  3.58s/it]"
     ]
    },
    {
     "name": "stdout",
     "output_type": "stream",
     "text": [
      "\n",
      "working on /windows/Lits2017/DataSet/val/volume-88.nii\n",
      "Bad spacing in volume-88.nii | spacing : (0.7559999823570251, 0.7559999823570251, 0.800000011920929)"
     ]
    },
    {
     "name": "stderr",
     "output_type": "stream",
     "text": [
      "\r",
      " 85%|████████▍ | 22/26 [02:26<00:17,  4.40s/it]"
     ]
    },
    {
     "name": "stdout",
     "output_type": "stream",
     "text": [
      "\n",
      "working on /windows/Lits2017/DataSet/val/volume-89.nii\n",
      "Bad spacing in volume-89.nii | spacing : (0.6370000243186951, 0.6370000243186951, 0.800000011920929)"
     ]
    },
    {
     "name": "stderr",
     "output_type": "stream",
     "text": [
      "\r",
      " 88%|████████▊ | 23/26 [02:30<00:12,  4.32s/it]"
     ]
    },
    {
     "name": "stdout",
     "output_type": "stream",
     "text": [
      "\n",
      "working on /windows/Lits2017/DataSet/val/volume-92.nii\n",
      "Bad spacing in volume-92.nii | spacing : (0.6710000038146973, 0.6710000038146973, 0.800000011920929)"
     ]
    },
    {
     "name": "stderr",
     "output_type": "stream",
     "text": [
      "\r",
      " 92%|█████████▏| 24/26 [02:34<00:08,  4.34s/it]"
     ]
    },
    {
     "name": "stdout",
     "output_type": "stream",
     "text": [
      "\n",
      "working on /windows/Lits2017/DataSet/val/volume-94.nii\n",
      "Bad spacing in volume-94.nii | spacing : (0.837890625, 0.837890625, 0.699999988079071)"
     ]
    },
    {
     "name": "stderr",
     "output_type": "stream",
     "text": [
      "\r",
      " 96%|█████████▌| 25/26 [02:38<00:04,  4.21s/it]"
     ]
    },
    {
     "name": "stdout",
     "output_type": "stream",
     "text": [
      "\n",
      "working on /windows/Lits2017/DataSet/val/volume-97.nii\n",
      "Bad spacing in volume-97.nii | spacing : (0.72265625, 0.72265625, 0.699999988079071)"
     ]
    },
    {
     "name": "stderr",
     "output_type": "stream",
     "text": [
      "\r",
      "100%|██████████| 26/26 [02:39<00:00,  3.13s/it]"
     ]
    },
    {
     "name": "stdout",
     "output_type": "stream",
     "text": [
      "\n"
     ]
    },
    {
     "name": "stderr",
     "output_type": "stream",
     "text": [
      "\n"
     ]
    }
   ],
   "source": [
    "for volume in tqdm(vols):\n",
    "    vol_path = os.path.join(root,mode,volume)\n",
    "    print(\"working on \" + vol_path)\n",
    "    label_path = os.path.join(root,mode,'segmentation-' + volume.split('-')[-1])\n",
    "    vol_img = sitk.ReadImage(vol_path)\n",
    "    if vol_img.GetSpacing() == (1.0,1.0,1.0):\n",
    "        label = sitk.GetArrayFromImage(sitk.ReadImage(label_path))\n",
    "        vol = sitk.GetArrayFromImage(vol_img)\n",
    "        vol1, vol2, vol3 = HU_window(vol)\n",
    "        vol1 = histogram_equalization(vol1)\n",
    "        vol2 = histogram_equalization(vol2)\n",
    "        vol3 = histogram_equalization(vol3)\n",
    "        vol1 = normalize(vol1)\n",
    "        vol2 = normalize(vol2)\n",
    "        vol3 = normalize(vol3)\n",
    "        for i in range(vol.shape[0]):\n",
    "            slc1 = vol1[i,:,:]\n",
    "            slc2 = vol2[i,:,:]\n",
    "            slc3 = vol3[i,:,:]\n",
    "            slc1,slc2,slc3 = downSample(slc1,slc2,slc3)\n",
    "            com_slc = makeInput(slc1, slc2, slc3)\n",
    "            lbl = makeLablel(label[i,:,:])\n",
    "            weight_map = getWeightMap(lbl)\n",
    "            hp = h5py.File(os.path.join(dest,mode,volume+'_'+ str(i)+'.hdf5'),'w')\n",
    "            hp.create_dataset('image', data=com_slc)\n",
    "            hp.create_dataset('label', data=lbl)\n",
    "            hp.create_dataset('weight_map', data=weight_map)\n",
    "            hp.close()\n",
    "    else:\n",
    "        print(\"Bad spacing in \" + volume + \" | spacing : \" + str(vol_img.GetSpacing()))"
   ]
  },
  {
   "cell_type": "code",
   "execution_count": null,
   "metadata": {
    "collapsed": true
   },
   "outputs": [],
   "source": [
    "img = sitk.ReadImage('/windows/Lits2017/DataSet/train/volume-0.nii')"
   ]
  },
  {
   "cell_type": "code",
   "execution_count": null,
   "metadata": {
    "collapsed": false
   },
   "outputs": [],
   "source": [
    "img.GetSpacing() == (0.703125, 0.703125, 5.0)"
   ]
  },
  {
   "cell_type": "code",
   "execution_count": 17,
   "metadata": {
    "collapsed": true
   },
   "outputs": [],
   "source": [
    "os.makedirs('/windows/Lits2017/DataSet/hdf5/train1/')"
   ]
  },
  {
   "cell_type": "code",
   "execution_count": 25,
   "metadata": {
    "collapsed": false
   },
   "outputs": [
    {
     "name": "stderr",
     "output_type": "stream",
     "text": [
      "  0%|          | 0/18938 [00:00<?, ?it/s]\n"
     ]
    },
    {
     "ename": "IOError",
     "evalue": "[Errno 28] No space left on device: '/windows/Lits2017/DataSet/hdf5/train/volume-21.nii_0.hdf5'",
     "output_type": "error",
     "traceback": [
      "\u001b[1;31m---------------------------------------------------------------------------\u001b[0m",
      "\u001b[1;31mIOError\u001b[0m                                   Traceback (most recent call last)",
      "\u001b[1;32m<ipython-input-25-b60c2adeb24f>\u001b[0m in \u001b[0;36m<module>\u001b[1;34m()\u001b[0m\n\u001b[0;32m      1\u001b[0m \u001b[1;32mfor\u001b[0m \u001b[0meach\u001b[0m \u001b[1;32min\u001b[0m \u001b[0mtqdm\u001b[0m\u001b[1;33m(\u001b[0m\u001b[0mos\u001b[0m\u001b[1;33m.\u001b[0m\u001b[0mlistdir\u001b[0m\u001b[1;33m(\u001b[0m\u001b[0mos\u001b[0m\u001b[1;33m.\u001b[0m\u001b[0mpath\u001b[0m\u001b[1;33m.\u001b[0m\u001b[0mjoin\u001b[0m\u001b[1;33m(\u001b[0m\u001b[0mdest\u001b[0m\u001b[1;33m,\u001b[0m\u001b[1;34m'train1'\u001b[0m\u001b[1;33m)\u001b[0m\u001b[1;33m)\u001b[0m\u001b[1;33m)\u001b[0m\u001b[1;33m:\u001b[0m\u001b[1;33m\u001b[0m\u001b[0m\n\u001b[1;32m----> 2\u001b[1;33m     \u001b[0mshutil\u001b[0m\u001b[1;33m.\u001b[0m\u001b[0mmove\u001b[0m\u001b[1;33m(\u001b[0m\u001b[0mos\u001b[0m\u001b[1;33m.\u001b[0m\u001b[0mpath\u001b[0m\u001b[1;33m.\u001b[0m\u001b[0mjoin\u001b[0m\u001b[1;33m(\u001b[0m\u001b[0mdest\u001b[0m\u001b[1;33m,\u001b[0m\u001b[1;34m'train1'\u001b[0m\u001b[1;33m,\u001b[0m\u001b[0meach\u001b[0m\u001b[1;33m)\u001b[0m\u001b[1;33m,\u001b[0m\u001b[0mos\u001b[0m\u001b[1;33m.\u001b[0m\u001b[0mpath\u001b[0m\u001b[1;33m.\u001b[0m\u001b[0mjoin\u001b[0m\u001b[1;33m(\u001b[0m\u001b[0mdest\u001b[0m\u001b[1;33m,\u001b[0m\u001b[1;34m'train'\u001b[0m\u001b[1;33m)\u001b[0m\u001b[1;33m)\u001b[0m\u001b[1;33m\u001b[0m\u001b[0m\n\u001b[0m",
      "\u001b[1;32m/usr/lib/python2.7/shutil.pyc\u001b[0m in \u001b[0;36mmove\u001b[1;34m(src, dst)\u001b[0m\n\u001b[0;32m    300\u001b[0m             \u001b[0mrmtree\u001b[0m\u001b[1;33m(\u001b[0m\u001b[0msrc\u001b[0m\u001b[1;33m)\u001b[0m\u001b[1;33m\u001b[0m\u001b[0m\n\u001b[0;32m    301\u001b[0m         \u001b[1;32melse\u001b[0m\u001b[1;33m:\u001b[0m\u001b[1;33m\u001b[0m\u001b[0m\n\u001b[1;32m--> 302\u001b[1;33m             \u001b[0mcopy2\u001b[0m\u001b[1;33m(\u001b[0m\u001b[0msrc\u001b[0m\u001b[1;33m,\u001b[0m \u001b[0mreal_dst\u001b[0m\u001b[1;33m)\u001b[0m\u001b[1;33m\u001b[0m\u001b[0m\n\u001b[0m\u001b[0;32m    303\u001b[0m             \u001b[0mos\u001b[0m\u001b[1;33m.\u001b[0m\u001b[0munlink\u001b[0m\u001b[1;33m(\u001b[0m\u001b[0msrc\u001b[0m\u001b[1;33m)\u001b[0m\u001b[1;33m\u001b[0m\u001b[0m\n\u001b[0;32m    304\u001b[0m \u001b[1;33m\u001b[0m\u001b[0m\n",
      "\u001b[1;32m/usr/lib/python2.7/shutil.pyc\u001b[0m in \u001b[0;36mcopy2\u001b[1;34m(src, dst)\u001b[0m\n\u001b[0;32m    128\u001b[0m     \u001b[1;32mif\u001b[0m \u001b[0mos\u001b[0m\u001b[1;33m.\u001b[0m\u001b[0mpath\u001b[0m\u001b[1;33m.\u001b[0m\u001b[0misdir\u001b[0m\u001b[1;33m(\u001b[0m\u001b[0mdst\u001b[0m\u001b[1;33m)\u001b[0m\u001b[1;33m:\u001b[0m\u001b[1;33m\u001b[0m\u001b[0m\n\u001b[0;32m    129\u001b[0m         \u001b[0mdst\u001b[0m \u001b[1;33m=\u001b[0m \u001b[0mos\u001b[0m\u001b[1;33m.\u001b[0m\u001b[0mpath\u001b[0m\u001b[1;33m.\u001b[0m\u001b[0mjoin\u001b[0m\u001b[1;33m(\u001b[0m\u001b[0mdst\u001b[0m\u001b[1;33m,\u001b[0m \u001b[0mos\u001b[0m\u001b[1;33m.\u001b[0m\u001b[0mpath\u001b[0m\u001b[1;33m.\u001b[0m\u001b[0mbasename\u001b[0m\u001b[1;33m(\u001b[0m\u001b[0msrc\u001b[0m\u001b[1;33m)\u001b[0m\u001b[1;33m)\u001b[0m\u001b[1;33m\u001b[0m\u001b[0m\n\u001b[1;32m--> 130\u001b[1;33m     \u001b[0mcopyfile\u001b[0m\u001b[1;33m(\u001b[0m\u001b[0msrc\u001b[0m\u001b[1;33m,\u001b[0m \u001b[0mdst\u001b[0m\u001b[1;33m)\u001b[0m\u001b[1;33m\u001b[0m\u001b[0m\n\u001b[0m\u001b[0;32m    131\u001b[0m     \u001b[0mcopystat\u001b[0m\u001b[1;33m(\u001b[0m\u001b[0msrc\u001b[0m\u001b[1;33m,\u001b[0m \u001b[0mdst\u001b[0m\u001b[1;33m)\u001b[0m\u001b[1;33m\u001b[0m\u001b[0m\n\u001b[0;32m    132\u001b[0m \u001b[1;33m\u001b[0m\u001b[0m\n",
      "\u001b[1;32m/usr/lib/python2.7/shutil.pyc\u001b[0m in \u001b[0;36mcopyfile\u001b[1;34m(src, dst)\u001b[0m\n\u001b[0;32m     81\u001b[0m \u001b[1;33m\u001b[0m\u001b[0m\n\u001b[0;32m     82\u001b[0m     \u001b[1;32mwith\u001b[0m \u001b[0mopen\u001b[0m\u001b[1;33m(\u001b[0m\u001b[0msrc\u001b[0m\u001b[1;33m,\u001b[0m \u001b[1;34m'rb'\u001b[0m\u001b[1;33m)\u001b[0m \u001b[1;32mas\u001b[0m \u001b[0mfsrc\u001b[0m\u001b[1;33m:\u001b[0m\u001b[1;33m\u001b[0m\u001b[0m\n\u001b[1;32m---> 83\u001b[1;33m         \u001b[1;32mwith\u001b[0m \u001b[0mopen\u001b[0m\u001b[1;33m(\u001b[0m\u001b[0mdst\u001b[0m\u001b[1;33m,\u001b[0m \u001b[1;34m'wb'\u001b[0m\u001b[1;33m)\u001b[0m \u001b[1;32mas\u001b[0m \u001b[0mfdst\u001b[0m\u001b[1;33m:\u001b[0m\u001b[1;33m\u001b[0m\u001b[0m\n\u001b[0m\u001b[0;32m     84\u001b[0m             \u001b[0mcopyfileobj\u001b[0m\u001b[1;33m(\u001b[0m\u001b[0mfsrc\u001b[0m\u001b[1;33m,\u001b[0m \u001b[0mfdst\u001b[0m\u001b[1;33m)\u001b[0m\u001b[1;33m\u001b[0m\u001b[0m\n\u001b[0;32m     85\u001b[0m \u001b[1;33m\u001b[0m\u001b[0m\n",
      "\u001b[1;31mIOError\u001b[0m: [Errno 28] No space left on device: '/windows/Lits2017/DataSet/hdf5/train/volume-21.nii_0.hdf5'"
     ]
    }
   ],
   "source": [
    "for each in tqdm(os.listdir(os.path.join(dest,'train1'))):\n",
    "    shutil.move(os.path.join(dest,'train1',each),os.path.join(dest,'train'))"
   ]
  },
  {
   "cell_type": "code",
   "execution_count": null,
   "metadata": {
    "collapsed": true
   },
   "outputs": [],
   "source": []
  }
 ],
 "metadata": {
  "kernelspec": {
   "display_name": "Python 2",
   "language": "python",
   "name": "python2"
  },
  "language_info": {
   "codemirror_mode": {
    "name": "ipython",
    "version": 2
   },
   "file_extension": ".py",
   "mimetype": "text/x-python",
   "name": "python",
   "nbconvert_exporter": "python",
   "pygments_lexer": "ipython2",
   "version": "2.7.6"
  }
 },
 "nbformat": 4,
 "nbformat_minor": 0
}
